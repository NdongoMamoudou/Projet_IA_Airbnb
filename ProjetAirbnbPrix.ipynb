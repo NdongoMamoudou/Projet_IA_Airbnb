{
 "cells": [
  {
   "cell_type": "markdown",
   "metadata": {},
   "source": [
    "## Objetctive est de prédire le prix d'un Airbnb  "
   ]
  },
  {
   "cell_type": "markdown",
   "metadata": {},
   "source": [
    "## Importer les bibliotheque "
   ]
  },
  {
   "cell_type": "code",
   "execution_count": null,
   "metadata": {},
   "outputs": [],
   "source": [
    "import numpy as np \n",
    "import pandas as pd \n",
    "import matplotlib.pyplot as  plt \n",
    "\n",
    "import  seaborn as sns \n",
    "\n",
    "##  diviser mon dataset pour les entrainé et testé \n",
    "from sklearn.model_selection import train_test_split\n",
    "\n",
    "\n",
    "\n",
    "from  sklearn.linear_model import LinearRegression\n",
    "\n",
    "from sklearn.preprocessing import LabelEncoder"
   ]
  },
  {
   "cell_type": "markdown",
   "metadata": {},
   "source": [
    "## Charger mon dataset "
   ]
  },
  {
   "cell_type": "code",
   "execution_count": null,
   "metadata": {},
   "outputs": [],
   "source": [
    "df = pd.read_csv(\"D:\\ProjetPerso\\Projet_IA_airbnbGit\\AB_NYC_2019.csv\")\n",
    "\n",
    "df.head()"
   ]
  },
  {
   "cell_type": "markdown",
   "metadata": {},
   "source": [
    "## Analyser  et traiter mes données  "
   ]
  },
  {
   "cell_type": "code",
   "execution_count": null,
   "metadata": {},
   "outputs": [],
   "source": [
    "df.info()"
   ]
  },
  {
   "cell_type": "code",
   "execution_count": null,
   "metadata": {},
   "outputs": [],
   "source": [
    "df.describe()"
   ]
  },
  {
   "cell_type": "code",
   "execution_count": null,
   "metadata": {},
   "outputs": [],
   "source": [
    "df.columns.to_list()\n"
   ]
  },
  {
   "cell_type": "code",
   "execution_count": null,
   "metadata": {},
   "outputs": [],
   "source": [
    "print(\"ligne_colonne:\" , df.shape , \"  \", \"size :\" , df.size )"
   ]
  },
  {
   "cell_type": "markdown",
   "metadata": {},
   "source": [
    "a ) Analyser les colonnes "
   ]
  },
  {
   "cell_type": "code",
   "execution_count": null,
   "metadata": {},
   "outputs": [],
   "source": [
    "#Nombre de données manquantes par colonnes\n",
    "\n",
    "df['reviews_per_month'].isnull().sum()\n",
    "\n",
    "df.isnull().sum().sum()\n",
    "\n",
    "df.isnull().sum().sort_values(ascending=False)\n",
    "\n"
   ]
  },
  {
   "cell_type": "code",
   "execution_count": null,
   "metadata": {},
   "outputs": [],
   "source": [
    "#Obtenir une liste des colonnes avec des données manquantes\n",
    "\n",
    "column_valeur_maquantes = df.columns[df.isnull().any()]\n",
    "column_valeur_maquantes"
   ]
  },
  {
   "cell_type": "code",
   "execution_count": null,
   "metadata": {},
   "outputs": [],
   "source": [
    "#afficher les colonnes des données maquantes avec leurs valeur \n",
    "\n",
    "for column in column_valeur_maquantes :\n",
    "    print(column , df[column].isnull().sum())\n"
   ]
  },
  {
   "cell_type": "code",
   "execution_count": null,
   "metadata": {},
   "outputs": [],
   "source": [
    "df.shape"
   ]
  },
  {
   "cell_type": "markdown",
   "metadata": {},
   "source": [
    "b) Supprimer les colonnes de la dataframe avec plus de 50% de données manquantes en utiliser la fonction pandas drop()"
   ]
  },
  {
   "cell_type": "code",
   "execution_count": null,
   "metadata": {},
   "outputs": [],
   "source": [
    "for column in column_valeur_maquantes : \n",
    "    if df[column].isnull().sum() * 100 / df.shape[1] > 50 :\n",
    "        df.drop(column ,axis=1 , inplace=True)"
   ]
  },
  {
   "cell_type": "code",
   "execution_count": null,
   "metadata": {},
   "outputs": [],
   "source": [
    "df.shape"
   ]
  },
  {
   "cell_type": "code",
   "execution_count": null,
   "metadata": {},
   "outputs": [],
   "source": [
    "df.isnull().sum().sort_values(ascending=False)\n",
    "df.isnull().sum().sum()"
   ]
  },
  {
   "cell_type": "markdown",
   "metadata": {},
   "source": [
    "c) Analyser les lignes "
   ]
  },
  {
   "cell_type": "code",
   "execution_count": null,
   "metadata": {},
   "outputs": [],
   "source": [
    "#trouver les lignes avec des données maquantes \n",
    "df.isnull().sum(axis=1)"
   ]
  },
  {
   "cell_type": "code",
   "execution_count": null,
   "metadata": {},
   "outputs": [],
   "source": [
    "#Obtenir une liste des lignes avec des données manquantes\n",
    "\n",
    "donne_manquate_ligne =df.index[df.isnull().any(axis=1)]\n",
    "donne_manquate_ligne"
   ]
  },
  {
   "cell_type": "code",
   "execution_count": null,
   "metadata": {},
   "outputs": [],
   "source": [
    "#Nombre de données manquantes par lignes\n",
    "\n",
    "df.isnull().sum(axis=1).sort_values(ascending=False)\n"
   ]
  },
  {
   "cell_type": "markdown",
   "metadata": {},
   "source": [
    "b) Supprimer les lignes avec des données manquantes "
   ]
  },
  {
   "cell_type": "code",
   "execution_count": null,
   "metadata": {},
   "outputs": [],
   "source": [
    "df.drop(donne_manquate_ligne, axis= 0 , inplace=True)\n"
   ]
  },
  {
   "cell_type": "code",
   "execution_count": null,
   "metadata": {},
   "outputs": [],
   "source": [
    "df.shape"
   ]
  },
  {
   "cell_type": "code",
   "execution_count": null,
   "metadata": {},
   "outputs": [],
   "source": [
    "#les données maquantes\n",
    "df.isnull().sum().sum()\n"
   ]
  },
  {
   "cell_type": "code",
   "execution_count": null,
   "metadata": {},
   "outputs": [],
   "source": [
    "# voir le type des serie \n",
    "\n",
    "df.dtypes\n"
   ]
  },
  {
   "cell_type": "markdown",
   "metadata": {},
   "source": [
    "## Comprendre les données"
   ]
  },
  {
   "cell_type": "code",
   "execution_count": null,
   "metadata": {},
   "outputs": [],
   "source": [
    "# id : identifiant\n",
    "# name : nom\n",
    "# host_id : identifiant de l'hôte\n",
    "# host_name : nom de l'hôte\n",
    "# neighbourhood_group : groupe de quartiers\n",
    "# neighbourhood : quartier\n",
    "# latitude : latitude\n",
    "# longitude : longitude\n",
    "# room_type : type de chambre\n",
    "# price : prix\n",
    "# minimum_nights : nombre minimum de nuits\n",
    "# number_of_reviews : nombre d'avis\n",
    "# last_review : dernier avis\n",
    "# reviews_per_month : avis par mois\n",
    "# calculated_host_listings_count : nombre d'annonces calculées par l'hôte\n",
    "# availability_365 : disponibilité pour 365 jours"
   ]
  },
  {
   "cell_type": "markdown",
   "metadata": {},
   "source": [
    "## Analyser et comprendre les valeur catégorials"
   ]
  },
  {
   "cell_type": "code",
   "execution_count": null,
   "metadata": {},
   "outputs": [],
   "source": [
    "df[\"neighbourhood_group\"].value_counts()\n",
    "\n",
    "# Créer une palette de couleurs personnalisée\n",
    "custom_palette = sns.color_palette(\"husl\", df['neighbourhood_group'].nunique())\n",
    "\n",
    "\n",
    "ax= sns.countplot(x=\"neighbourhood_group\" , data=df ,palette= custom_palette )"
   ]
  },
  {
   "cell_type": "code",
   "execution_count": null,
   "metadata": {},
   "outputs": [],
   "source": [
    "df[\"neighbourhood\"].value_counts()\n",
    "\n",
    "ax= sns.countplot(x=\"neighbourhood\" , data=df)"
   ]
  },
  {
   "cell_type": "code",
   "execution_count": null,
   "metadata": {},
   "outputs": [],
   "source": [
    "df[\"room_type\"].value_counts()\n",
    "\n",
    "# Créer une palette de couleurs personnalisée\n",
    "custom_palette = sns.color_palette(\"husl\", df['room_type'].nunique())\n",
    "\n",
    "\n",
    "ax= sns.countplot(x=\"room_type\" , data=df ,  palette= custom_palette)"
   ]
  },
  {
   "cell_type": "code",
   "execution_count": null,
   "metadata": {},
   "outputs": [],
   "source": [
    "ax= sns.boxplot(x=\"room_type\" , y=\"availability_365\" , data=df)"
   ]
  },
  {
   "cell_type": "code",
   "execution_count": null,
   "metadata": {},
   "outputs": [],
   "source": [
    "# fig = px.scatter(df, x='longitude', y='latitude',\n",
    "#                  color='neighbourhood_group') # Added color to previous basic \n",
    "# fig.update_layout(xaxis_title=\"longitude\",yaxis_title=\"latitude\")\n",
    "# fig.show()"
   ]
  },
  {
   "cell_type": "code",
   "execution_count": null,
   "metadata": {},
   "outputs": [],
   "source": [
    "df[\"minimum_nights\"].describe()"
   ]
  },
  {
   "cell_type": "code",
   "execution_count": null,
   "metadata": {},
   "outputs": [],
   "source": [
    "df.dtypes"
   ]
  },
  {
   "cell_type": "markdown",
   "metadata": {},
   "source": [
    "## Modification des types des colonnes "
   ]
  },
  {
   "cell_type": "code",
   "execution_count": null,
   "metadata": {},
   "outputs": [],
   "source": [
    "label_encoder = LabelEncoder()\n",
    "\n",
    "\n",
    "\n",
    "df['neighbourhood_group_encoded']= label_encoder.fit_transform(df['neighbourhood_group'])\n",
    "\n",
    "\n",
    "\n",
    "df[\"neighbourhood_Encoded\"]= label_encoder.fit_transform(df[\"neighbourhood\"])\n",
    "\n",
    "\n",
    "df[\"room_type_Encoded\"]= label_encoder.fit_transform(df[\"room_type\"])\n",
    "\n",
    "\n",
    "\n",
    "\n",
    "\n",
    " "
   ]
  },
  {
   "cell_type": "code",
   "execution_count": null,
   "metadata": {},
   "outputs": [],
   "source": [
    "df.dtypes"
   ]
  },
  {
   "cell_type": "code",
   "execution_count": null,
   "metadata": {},
   "outputs": [],
   "source": [
    "df.drop(['neighbourhood_group', 'neighbourhood', 'room_type'], axis=1, inplace=True)\n",
    "\n",
    "df.dtypes\n",
    "\n",
    "df.columns"
   ]
  },
  {
   "cell_type": "markdown",
   "metadata": {},
   "source": [
    "Enlever les Valuer extraime"
   ]
  },
  {
   "cell_type": "code",
   "execution_count": 163,
   "metadata": {},
   "outputs": [
    {
     "data": {
      "text/html": [
       "<div>\n",
       "<style scoped>\n",
       "    .dataframe tbody tr th:only-of-type {\n",
       "        vertical-align: middle;\n",
       "    }\n",
       "\n",
       "    .dataframe tbody tr th {\n",
       "        vertical-align: top;\n",
       "    }\n",
       "\n",
       "    .dataframe thead th {\n",
       "        text-align: right;\n",
       "    }\n",
       "</style>\n",
       "<table border=\"1\" class=\"dataframe\">\n",
       "  <thead>\n",
       "    <tr style=\"text-align: right;\">\n",
       "      <th></th>\n",
       "      <th>id</th>\n",
       "      <th>host_id</th>\n",
       "      <th>latitude</th>\n",
       "      <th>longitude</th>\n",
       "      <th>price</th>\n",
       "      <th>minimum_nights</th>\n",
       "      <th>number_of_reviews</th>\n",
       "      <th>calculated_host_listings_count</th>\n",
       "      <th>availability_365</th>\n",
       "      <th>neighbourhood_group_encoded</th>\n",
       "      <th>neighbourhood_Encoded</th>\n",
       "      <th>room_type_Encoded</th>\n",
       "    </tr>\n",
       "  </thead>\n",
       "  <tbody>\n",
       "    <tr>\n",
       "      <th>2158</th>\n",
       "      <td>995367</td>\n",
       "      <td>412783</td>\n",
       "      <td>40.73506</td>\n",
       "      <td>-73.99728</td>\n",
       "      <td>334</td>\n",
       "      <td>11</td>\n",
       "      <td>14</td>\n",
       "      <td>1</td>\n",
       "      <td>238</td>\n",
       "      <td>2</td>\n",
       "      <td>92</td>\n",
       "      <td>0</td>\n",
       "    </tr>\n",
       "    <tr>\n",
       "      <th>19641</th>\n",
       "      <td>15728780</td>\n",
       "      <td>148108</td>\n",
       "      <td>40.72297</td>\n",
       "      <td>-73.98946</td>\n",
       "      <td>333</td>\n",
       "      <td>1</td>\n",
       "      <td>40</td>\n",
       "      <td>2</td>\n",
       "      <td>62</td>\n",
       "      <td>2</td>\n",
       "      <td>119</td>\n",
       "      <td>1</td>\n",
       "    </tr>\n",
       "    <tr>\n",
       "      <th>13798</th>\n",
       "      <td>10403199</td>\n",
       "      <td>29065752</td>\n",
       "      <td>40.71863</td>\n",
       "      <td>-73.94528</td>\n",
       "      <td>333</td>\n",
       "      <td>7</td>\n",
       "      <td>0</td>\n",
       "      <td>1</td>\n",
       "      <td>365</td>\n",
       "      <td>1</td>\n",
       "      <td>214</td>\n",
       "      <td>0</td>\n",
       "    </tr>\n",
       "    <tr>\n",
       "      <th>15150</th>\n",
       "      <td>12093494</td>\n",
       "      <td>62031986</td>\n",
       "      <td>40.75237</td>\n",
       "      <td>-73.98769</td>\n",
       "      <td>333</td>\n",
       "      <td>1</td>\n",
       "      <td>246</td>\n",
       "      <td>1</td>\n",
       "      <td>323</td>\n",
       "      <td>2</td>\n",
       "      <td>127</td>\n",
       "      <td>0</td>\n",
       "    </tr>\n",
       "    <tr>\n",
       "      <th>38565</th>\n",
       "      <td>30327469</td>\n",
       "      <td>224001464</td>\n",
       "      <td>40.73734</td>\n",
       "      <td>-73.99327</td>\n",
       "      <td>333</td>\n",
       "      <td>4</td>\n",
       "      <td>4</td>\n",
       "      <td>1</td>\n",
       "      <td>80</td>\n",
       "      <td>2</td>\n",
       "      <td>34</td>\n",
       "      <td>0</td>\n",
       "    </tr>\n",
       "    <tr>\n",
       "      <th>...</th>\n",
       "      <td>...</td>\n",
       "      <td>...</td>\n",
       "      <td>...</td>\n",
       "      <td>...</td>\n",
       "      <td>...</td>\n",
       "      <td>...</td>\n",
       "      <td>...</td>\n",
       "      <td>...</td>\n",
       "      <td>...</td>\n",
       "      <td>...</td>\n",
       "      <td>...</td>\n",
       "      <td>...</td>\n",
       "    </tr>\n",
       "    <tr>\n",
       "      <th>26259</th>\n",
       "      <td>20933849</td>\n",
       "      <td>13709292</td>\n",
       "      <td>40.75091</td>\n",
       "      <td>-73.97597</td>\n",
       "      <td>0</td>\n",
       "      <td>3</td>\n",
       "      <td>0</td>\n",
       "      <td>1</td>\n",
       "      <td>0</td>\n",
       "      <td>2</td>\n",
       "      <td>137</td>\n",
       "      <td>0</td>\n",
       "    </tr>\n",
       "    <tr>\n",
       "      <th>25795</th>\n",
       "      <td>20639792</td>\n",
       "      <td>86327101</td>\n",
       "      <td>40.68279</td>\n",
       "      <td>-73.91170</td>\n",
       "      <td>0</td>\n",
       "      <td>1</td>\n",
       "      <td>95</td>\n",
       "      <td>6</td>\n",
       "      <td>232</td>\n",
       "      <td>1</td>\n",
       "      <td>13</td>\n",
       "      <td>1</td>\n",
       "    </tr>\n",
       "    <tr>\n",
       "      <th>25794</th>\n",
       "      <td>20639628</td>\n",
       "      <td>86327101</td>\n",
       "      <td>40.68173</td>\n",
       "      <td>-73.91342</td>\n",
       "      <td>0</td>\n",
       "      <td>1</td>\n",
       "      <td>93</td>\n",
       "      <td>6</td>\n",
       "      <td>176</td>\n",
       "      <td>1</td>\n",
       "      <td>13</td>\n",
       "      <td>1</td>\n",
       "    </tr>\n",
       "    <tr>\n",
       "      <th>25634</th>\n",
       "      <td>20523843</td>\n",
       "      <td>15787004</td>\n",
       "      <td>40.69467</td>\n",
       "      <td>-73.92433</td>\n",
       "      <td>0</td>\n",
       "      <td>2</td>\n",
       "      <td>16</td>\n",
       "      <td>5</td>\n",
       "      <td>0</td>\n",
       "      <td>1</td>\n",
       "      <td>28</td>\n",
       "      <td>1</td>\n",
       "    </tr>\n",
       "    <tr>\n",
       "      <th>25433</th>\n",
       "      <td>20333471</td>\n",
       "      <td>131697576</td>\n",
       "      <td>40.83296</td>\n",
       "      <td>-73.88668</td>\n",
       "      <td>0</td>\n",
       "      <td>2</td>\n",
       "      <td>55</td>\n",
       "      <td>4</td>\n",
       "      <td>127</td>\n",
       "      <td>0</td>\n",
       "      <td>62</td>\n",
       "      <td>1</td>\n",
       "    </tr>\n",
       "  </tbody>\n",
       "</table>\n",
       "<p>39738 rows × 12 columns</p>\n",
       "</div>"
      ],
      "text/plain": [
       "             id    host_id  latitude  longitude  price  minimum_nights  \\\n",
       "2158     995367     412783  40.73506  -73.99728    334              11   \n",
       "19641  15728780     148108  40.72297  -73.98946    333               1   \n",
       "13798  10403199   29065752  40.71863  -73.94528    333               7   \n",
       "15150  12093494   62031986  40.75237  -73.98769    333               1   \n",
       "38565  30327469  224001464  40.73734  -73.99327    333               4   \n",
       "...         ...        ...       ...        ...    ...             ...   \n",
       "26259  20933849   13709292  40.75091  -73.97597      0               3   \n",
       "25795  20639792   86327101  40.68279  -73.91170      0               1   \n",
       "25794  20639628   86327101  40.68173  -73.91342      0               1   \n",
       "25634  20523843   15787004  40.69467  -73.92433      0               2   \n",
       "25433  20333471  131697576  40.83296  -73.88668      0               2   \n",
       "\n",
       "       number_of_reviews  calculated_host_listings_count  availability_365  \\\n",
       "2158                  14                               1               238   \n",
       "19641                 40                               2                62   \n",
       "13798                  0                               1               365   \n",
       "15150                246                               1               323   \n",
       "38565                  4                               1                80   \n",
       "...                  ...                             ...               ...   \n",
       "26259                  0                               1                 0   \n",
       "25795                 95                               6               232   \n",
       "25794                 93                               6               176   \n",
       "25634                 16                               5                 0   \n",
       "25433                 55                               4               127   \n",
       "\n",
       "       neighbourhood_group_encoded  neighbourhood_Encoded  room_type_Encoded  \n",
       "2158                             2                     92                  0  \n",
       "19641                            2                    119                  1  \n",
       "13798                            1                    214                  0  \n",
       "15150                            2                    127                  0  \n",
       "38565                            2                     34                  0  \n",
       "...                            ...                    ...                ...  \n",
       "26259                            2                    137                  0  \n",
       "25795                            1                     13                  1  \n",
       "25794                            1                     13                  1  \n",
       "25634                            1                     28                  1  \n",
       "25433                            0                     62                  1  \n",
       "\n",
       "[39738 rows x 12 columns]"
      ]
     },
     "execution_count": 163,
     "metadata": {},
     "output_type": "execute_result"
    }
   ],
   "source": [
    "# Affichage des statistiques descriptives avant suppression des valeurs aberrantes\n",
    "df[\"price\"].describe()\n",
    "\n",
    "# Calcul des quartiles et de l'IQR\n",
    "Q1 = df['price'].quantile(0.25)\n",
    "Q3 = df['price'].quantile(0.75)\n",
    "IQR = Q3 - Q1\n",
    "\n",
    "\n",
    "# Définir les limites inférieure et supérieure\n",
    "lower_bound = Q1 - 1.5 * IQR\n",
    "upper_bound = Q3 + 1.5 * IQR\n",
    "\n",
    "#Filtrer les données pour supprimer les valeurs aberrantes\n",
    "df_filtered_price = df[(df['price'] >= lower_bound) & (df['price'] <= upper_bound)]\n",
    "\n",
    "df_filtered_price['price'].describe()\n",
    "\n",
    "df_filtered_price.sort_values(by=\"price\" , ascending=False)\n",
    "\n"
   ]
  },
  {
   "cell_type": "code",
   "execution_count": 164,
   "metadata": {},
   "outputs": [],
   "source": [
    "# Affichage des statistiques descriptives avant suppression des valeurs aberrantes\n",
    "df[\"minimum_nights\"].describe()\n",
    "\n",
    "# Calcul des quartiles et de l'IQR\n",
    "Q1 = df['minimum_nights'].quantile(0.25)\n",
    "Q3 = df['minimum_nights'].quantile(0.75)\n",
    "IQR = Q3 - Q1\n",
    "\n",
    "\n",
    "# Définir les limites inférieure et supérieure\n",
    "lower_bound = Q1 - 1.5 * IQR\n",
    "upper_bound = Q3 + 1.5 * IQR\n",
    "\n",
    "#Filtrer les données pour supprimer les valeurs aberrantes\n",
    "df_filtered =  df[(df['minimum_nights'] >= lower_bound) & (df['minimum_nights'] <= upper_bound) ]\n",
    "\n",
    "\n",
    "\n"
   ]
  },
  {
   "cell_type": "code",
   "execution_count": null,
   "metadata": {},
   "outputs": [],
   "source": [
    "df_filtered.describe()"
   ]
  },
  {
   "cell_type": "code",
   "execution_count": null,
   "metadata": {},
   "outputs": [],
   "source": [
    "#tracer un graphe pour voir les colonne important \n",
    "\n",
    "plt.figure(figsize=(10, 7))\n",
    "\n",
    "sns.pairplot(df_filtered , x_vars=['latitude', 'longitude', 'minimum_nights','number_of_reviews', 'calculated_host_listings_count','availability_365', 'neighbourhood_group_encoded','neighbourhood_Encoded', 'room_type_Encoded'], y_vars=[\"price\"] )\n",
    "\n",
    "plt.show()"
   ]
  },
  {
   "cell_type": "code",
   "execution_count": null,
   "metadata": {},
   "outputs": [],
   "source": [
    "# Créer une matrice de corrélation\n",
    "X_corrélation  =df[['latitude', 'longitude', 'minimum_nights','number_of_reviews', 'calculated_host_listings_count','availability_365', 'neighbourhood_group_encoded','neighbourhood_Encoded', 'room_type_Encoded', \"price\"]]\n",
    "\n",
    "X_corrélation= X_corrélation.corr()\n",
    "\n",
    "# Tracer la matrice de corrélation\n",
    "plt.figure(figsize=(10, 8))\n",
    "sns.heatmap(df_filtered, annot=True, cmap='coolwarm', fmt=\".2f\")\n",
    "plt.title('Matrice de corrélation')\n",
    "plt.show()"
   ]
  },
  {
   "cell_type": "markdown",
   "metadata": {},
   "source": [
    "## Diviser mon dataframme "
   ]
  },
  {
   "cell_type": "code",
   "execution_count": null,
   "metadata": {},
   "outputs": [],
   "source": [
    "x= df_filtered.drop('price' , axis=1)\n",
    "y=df_filtered[\"price\"]\n",
    "\n",
    "x , y \n",
    "\n",
    "x_train , y_train , x_test, y_test = train_test_split( x, y, test_size = 0.2 ,  random_state=0)"
   ]
  },
  {
   "cell_type": "markdown",
   "metadata": {},
   "source": [
    "## Création de moodel "
   ]
  },
  {
   "cell_type": "code",
   "execution_count": null,
   "metadata": {},
   "outputs": [],
   "source": [
    "model = LinearRegression()\n",
    "model"
   ]
  },
  {
   "cell_type": "markdown",
   "metadata": {},
   "source": [
    "Entrainement des données "
   ]
  },
  {
   "cell_type": "code",
   "execution_count": null,
   "metadata": {},
   "outputs": [],
   "source": [
    "model.fit(x_train , y_train)"
   ]
  },
  {
   "cell_type": "markdown",
   "metadata": {},
   "source": []
  }
 ],
 "metadata": {
  "kernelspec": {
   "display_name": "Python 3",
   "language": "python",
   "name": "python3"
  },
  "language_info": {
   "codemirror_mode": {
    "name": "ipython",
    "version": 3
   },
   "file_extension": ".py",
   "mimetype": "text/x-python",
   "name": "python",
   "nbconvert_exporter": "python",
   "pygments_lexer": "ipython3",
   "version": "3.11.9"
  }
 },
 "nbformat": 4,
 "nbformat_minor": 2
}
