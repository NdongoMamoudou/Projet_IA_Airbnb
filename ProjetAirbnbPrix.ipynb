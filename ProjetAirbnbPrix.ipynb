{
 "cells": [
  {
   "cell_type": "markdown",
   "metadata": {},
   "source": [
    "## Objetctive est de prédire le prix d'un Airbnb  "
   ]
  },
  {
   "cell_type": "markdown",
   "metadata": {},
   "source": [
    "## Importer les bibliotheque "
   ]
  },
  {
   "cell_type": "code",
   "execution_count": 1,
   "metadata": {},
   "outputs": [],
   "source": [
    "import numpy as np \n",
    "import pandas as pd \n",
    "import matplotlib.pyplot as  plt \n",
    "\n",
    "import  seaborn as sns \n",
    "\n",
    "\n",
    "from  sklearn.linear_model import LinearRegression\n",
    "\n",
    "from sklearn.preprocessing import LabelEncoder"
   ]
  },
  {
   "cell_type": "markdown",
   "metadata": {},
   "source": [
    "## Charger mon dataset "
   ]
  },
  {
   "cell_type": "code",
   "execution_count": 78,
   "metadata": {},
   "outputs": [
    {
     "data": {
      "text/html": [
       "<div>\n",
       "<style scoped>\n",
       "    .dataframe tbody tr th:only-of-type {\n",
       "        vertical-align: middle;\n",
       "    }\n",
       "\n",
       "    .dataframe tbody tr th {\n",
       "        vertical-align: top;\n",
       "    }\n",
       "\n",
       "    .dataframe thead th {\n",
       "        text-align: right;\n",
       "    }\n",
       "</style>\n",
       "<table border=\"1\" class=\"dataframe\">\n",
       "  <thead>\n",
       "    <tr style=\"text-align: right;\">\n",
       "      <th></th>\n",
       "      <th>id</th>\n",
       "      <th>listing_url</th>\n",
       "      <th>scrape_id</th>\n",
       "      <th>last_scraped</th>\n",
       "      <th>source</th>\n",
       "      <th>name</th>\n",
       "      <th>description</th>\n",
       "      <th>neighborhood_overview</th>\n",
       "      <th>picture_url</th>\n",
       "      <th>host_id</th>\n",
       "      <th>...</th>\n",
       "      <th>review_scores_communication</th>\n",
       "      <th>review_scores_location</th>\n",
       "      <th>review_scores_value</th>\n",
       "      <th>license</th>\n",
       "      <th>instant_bookable</th>\n",
       "      <th>calculated_host_listings_count</th>\n",
       "      <th>calculated_host_listings_count_entire_homes</th>\n",
       "      <th>calculated_host_listings_count_private_rooms</th>\n",
       "      <th>calculated_host_listings_count_shared_rooms</th>\n",
       "      <th>reviews_per_month</th>\n",
       "    </tr>\n",
       "  </thead>\n",
       "  <tbody>\n",
       "    <tr>\n",
       "      <th>0</th>\n",
       "      <td>52931</td>\n",
       "      <td>https://www.airbnb.com/rooms/52931</td>\n",
       "      <td>20230904181324</td>\n",
       "      <td>2023-09-06</td>\n",
       "      <td>previous scrape</td>\n",
       "      <td>Rental unit in Paris · ★4.65 · 2 bedrooms · 2 ...</td>\n",
       "      <td>I will be delighted to welcome you to my charm...</td>\n",
       "      <td>In some streets, Les Épinettes has also become...</td>\n",
       "      <td>https://a0.muscache.com/pictures/miso/Hosting-...</td>\n",
       "      <td>50502817</td>\n",
       "      <td>...</td>\n",
       "      <td>4.71</td>\n",
       "      <td>4.24</td>\n",
       "      <td>4.24</td>\n",
       "      <td>7511706944917</td>\n",
       "      <td>t</td>\n",
       "      <td>382</td>\n",
       "      <td>378</td>\n",
       "      <td>4</td>\n",
       "      <td>0</td>\n",
       "      <td>1.65</td>\n",
       "    </tr>\n",
       "    <tr>\n",
       "      <th>1</th>\n",
       "      <td>53353</td>\n",
       "      <td>https://www.airbnb.com/rooms/53353</td>\n",
       "      <td>20230904181324</td>\n",
       "      <td>2023-09-05</td>\n",
       "      <td>city scrape</td>\n",
       "      <td>Rental unit in Paris · ★4.82 · 2 bedrooms · 3 ...</td>\n",
       "      <td>A 100 m2 Loft/apartment (with 20 m2 terrace) o...</td>\n",
       "      <td>NEIGHBORHOOD: Montmartre-Clichy-Pigalles-Les F...</td>\n",
       "      <td>https://a0.muscache.com/pictures/2a1726b5-5a09...</td>\n",
       "      <td>37051412</td>\n",
       "      <td>...</td>\n",
       "      <td>4.91</td>\n",
       "      <td>4.48</td>\n",
       "      <td>4.73</td>\n",
       "      <td>7511800114704</td>\n",
       "      <td>f</td>\n",
       "      <td>1</td>\n",
       "      <td>1</td>\n",
       "      <td>0</td>\n",
       "      <td>0</td>\n",
       "      <td>0.24</td>\n",
       "    </tr>\n",
       "    <tr>\n",
       "      <th>2</th>\n",
       "      <td>3109</td>\n",
       "      <td>https://www.airbnb.com/rooms/3109</td>\n",
       "      <td>20230904181324</td>\n",
       "      <td>2023-09-05</td>\n",
       "      <td>city scrape</td>\n",
       "      <td>Rental unit in Paris · ★5.0 · 1 bedroom · 1 be...</td>\n",
       "      <td>Lovely Appartment with one bedroom with a Quee...</td>\n",
       "      <td>Good restaurants&lt;br /&gt;very close the Montparna...</td>\n",
       "      <td>https://a0.muscache.com/pictures/baeae9e2-cd53...</td>\n",
       "      <td>3631</td>\n",
       "      <td>...</td>\n",
       "      <td>5.00</td>\n",
       "      <td>5.00</td>\n",
       "      <td>5.00</td>\n",
       "      <td>7511409139079</td>\n",
       "      <td>f</td>\n",
       "      <td>1</td>\n",
       "      <td>1</td>\n",
       "      <td>0</td>\n",
       "      <td>0</td>\n",
       "      <td>0.11</td>\n",
       "    </tr>\n",
       "    <tr>\n",
       "      <th>3</th>\n",
       "      <td>54377</td>\n",
       "      <td>https://www.airbnb.com/rooms/54377</td>\n",
       "      <td>20230904181324</td>\n",
       "      <td>2023-09-05</td>\n",
       "      <td>city scrape</td>\n",
       "      <td>Rental unit in Paris · ★4.94 · 1 bedroom · 1 b...</td>\n",
       "      <td>We love Paris. Giving tourists the opportunity...</td>\n",
       "      <td>The district is cosmopolitan and particularly ...</td>\n",
       "      <td>https://a0.muscache.com/pictures/miso/Hosting-...</td>\n",
       "      <td>247562</td>\n",
       "      <td>...</td>\n",
       "      <td>5.00</td>\n",
       "      <td>4.57</td>\n",
       "      <td>4.88</td>\n",
       "      <td>7511800523290</td>\n",
       "      <td>f</td>\n",
       "      <td>1</td>\n",
       "      <td>0</td>\n",
       "      <td>1</td>\n",
       "      <td>0</td>\n",
       "      <td>1.19</td>\n",
       "    </tr>\n",
       "    <tr>\n",
       "      <th>4</th>\n",
       "      <td>5396</td>\n",
       "      <td>https://www.airbnb.com/rooms/5396</td>\n",
       "      <td>20230904181324</td>\n",
       "      <td>2023-09-05</td>\n",
       "      <td>city scrape</td>\n",
       "      <td>Rental unit in Paris · ★4.56 · Studio · 1 bed ...</td>\n",
       "      <td>NEW SOFA-BED SINCE JUNE 2023, Please disregard...</td>\n",
       "      <td>You are within walking distance to the Louvre,...</td>\n",
       "      <td>https://a0.muscache.com/pictures/52413/f9bf76f...</td>\n",
       "      <td>7903</td>\n",
       "      <td>...</td>\n",
       "      <td>4.83</td>\n",
       "      <td>4.95</td>\n",
       "      <td>4.55</td>\n",
       "      <td>7510402838018</td>\n",
       "      <td>f</td>\n",
       "      <td>1</td>\n",
       "      <td>1</td>\n",
       "      <td>0</td>\n",
       "      <td>0</td>\n",
       "      <td>2.05</td>\n",
       "    </tr>\n",
       "  </tbody>\n",
       "</table>\n",
       "<p>5 rows × 75 columns</p>\n",
       "</div>"
      ],
      "text/plain": [
       "      id                         listing_url       scrape_id last_scraped  \\\n",
       "0  52931  https://www.airbnb.com/rooms/52931  20230904181324   2023-09-06   \n",
       "1  53353  https://www.airbnb.com/rooms/53353  20230904181324   2023-09-05   \n",
       "2   3109   https://www.airbnb.com/rooms/3109  20230904181324   2023-09-05   \n",
       "3  54377  https://www.airbnb.com/rooms/54377  20230904181324   2023-09-05   \n",
       "4   5396   https://www.airbnb.com/rooms/5396  20230904181324   2023-09-05   \n",
       "\n",
       "            source                                               name  \\\n",
       "0  previous scrape  Rental unit in Paris · ★4.65 · 2 bedrooms · 2 ...   \n",
       "1      city scrape  Rental unit in Paris · ★4.82 · 2 bedrooms · 3 ...   \n",
       "2      city scrape  Rental unit in Paris · ★5.0 · 1 bedroom · 1 be...   \n",
       "3      city scrape  Rental unit in Paris · ★4.94 · 1 bedroom · 1 b...   \n",
       "4      city scrape  Rental unit in Paris · ★4.56 · Studio · 1 bed ...   \n",
       "\n",
       "                                         description  \\\n",
       "0  I will be delighted to welcome you to my charm...   \n",
       "1  A 100 m2 Loft/apartment (with 20 m2 terrace) o...   \n",
       "2  Lovely Appartment with one bedroom with a Quee...   \n",
       "3  We love Paris. Giving tourists the opportunity...   \n",
       "4  NEW SOFA-BED SINCE JUNE 2023, Please disregard...   \n",
       "\n",
       "                               neighborhood_overview  \\\n",
       "0  In some streets, Les Épinettes has also become...   \n",
       "1  NEIGHBORHOOD: Montmartre-Clichy-Pigalles-Les F...   \n",
       "2  Good restaurants<br />very close the Montparna...   \n",
       "3  The district is cosmopolitan and particularly ...   \n",
       "4  You are within walking distance to the Louvre,...   \n",
       "\n",
       "                                         picture_url   host_id  ...  \\\n",
       "0  https://a0.muscache.com/pictures/miso/Hosting-...  50502817  ...   \n",
       "1  https://a0.muscache.com/pictures/2a1726b5-5a09...  37051412  ...   \n",
       "2  https://a0.muscache.com/pictures/baeae9e2-cd53...      3631  ...   \n",
       "3  https://a0.muscache.com/pictures/miso/Hosting-...    247562  ...   \n",
       "4  https://a0.muscache.com/pictures/52413/f9bf76f...      7903  ...   \n",
       "\n",
       "  review_scores_communication review_scores_location review_scores_value  \\\n",
       "0                        4.71                   4.24                4.24   \n",
       "1                        4.91                   4.48                4.73   \n",
       "2                        5.00                   5.00                5.00   \n",
       "3                        5.00                   4.57                4.88   \n",
       "4                        4.83                   4.95                4.55   \n",
       "\n",
       "         license instant_bookable calculated_host_listings_count  \\\n",
       "0  7511706944917                t                            382   \n",
       "1  7511800114704                f                              1   \n",
       "2  7511409139079                f                              1   \n",
       "3  7511800523290                f                              1   \n",
       "4  7510402838018                f                              1   \n",
       "\n",
       "  calculated_host_listings_count_entire_homes  \\\n",
       "0                                         378   \n",
       "1                                           1   \n",
       "2                                           1   \n",
       "3                                           0   \n",
       "4                                           1   \n",
       "\n",
       "  calculated_host_listings_count_private_rooms  \\\n",
       "0                                            4   \n",
       "1                                            0   \n",
       "2                                            0   \n",
       "3                                            1   \n",
       "4                                            0   \n",
       "\n",
       "  calculated_host_listings_count_shared_rooms reviews_per_month  \n",
       "0                                           0              1.65  \n",
       "1                                           0              0.24  \n",
       "2                                           0              0.11  \n",
       "3                                           0              1.19  \n",
       "4                                           0              2.05  \n",
       "\n",
       "[5 rows x 75 columns]"
      ]
     },
     "execution_count": 78,
     "metadata": {},
     "output_type": "execute_result"
    }
   ],
   "source": [
    "df = pd.read_csv(\"D:/ProjetPerso/Projet_IA/Projet_IA_prediction/Data/listings_paris.csv\")\n",
    "\n",
    "df.head()"
   ]
  },
  {
   "cell_type": "markdown",
   "metadata": {},
   "source": [
    "## Analyser  et traiter mes données  "
   ]
  },
  {
   "cell_type": "code",
   "execution_count": null,
   "metadata": {},
   "outputs": [
    {
     "data": {
      "text/plain": [
       "['id',\n",
       " 'listing_url',\n",
       " 'scrape_id',\n",
       " 'last_scraped',\n",
       " 'source',\n",
       " 'name',\n",
       " 'description',\n",
       " 'neighborhood_overview',\n",
       " 'picture_url',\n",
       " 'host_id',\n",
       " 'host_url',\n",
       " 'host_name',\n",
       " 'host_since',\n",
       " 'host_location',\n",
       " 'host_about',\n",
       " 'host_response_time',\n",
       " 'host_response_rate',\n",
       " 'host_acceptance_rate',\n",
       " 'host_is_superhost',\n",
       " 'host_thumbnail_url',\n",
       " 'host_picture_url',\n",
       " 'host_neighbourhood',\n",
       " 'host_listings_count',\n",
       " 'host_total_listings_count',\n",
       " 'host_verifications',\n",
       " 'host_has_profile_pic',\n",
       " 'host_identity_verified',\n",
       " 'neighbourhood',\n",
       " 'neighbourhood_cleansed',\n",
       " 'neighbourhood_group_cleansed',\n",
       " 'latitude',\n",
       " 'longitude',\n",
       " 'property_type',\n",
       " 'room_type',\n",
       " 'accommodates',\n",
       " 'bathrooms',\n",
       " 'bathrooms_text',\n",
       " 'bedrooms',\n",
       " 'beds',\n",
       " 'amenities',\n",
       " 'price',\n",
       " 'minimum_nights',\n",
       " 'maximum_nights',\n",
       " 'minimum_minimum_nights',\n",
       " 'maximum_minimum_nights',\n",
       " 'minimum_maximum_nights',\n",
       " 'maximum_maximum_nights',\n",
       " 'minimum_nights_avg_ntm',\n",
       " 'maximum_nights_avg_ntm',\n",
       " 'calendar_updated',\n",
       " 'has_availability',\n",
       " 'availability_30',\n",
       " 'availability_60',\n",
       " 'availability_90',\n",
       " 'availability_365',\n",
       " 'calendar_last_scraped',\n",
       " 'number_of_reviews',\n",
       " 'number_of_reviews_ltm',\n",
       " 'number_of_reviews_l30d',\n",
       " 'first_review',\n",
       " 'last_review',\n",
       " 'review_scores_rating',\n",
       " 'review_scores_accuracy',\n",
       " 'review_scores_cleanliness',\n",
       " 'review_scores_checkin',\n",
       " 'review_scores_communication',\n",
       " 'review_scores_location',\n",
       " 'review_scores_value',\n",
       " 'license',\n",
       " 'instant_bookable',\n",
       " 'calculated_host_listings_count',\n",
       " 'calculated_host_listings_count_entire_homes',\n",
       " 'calculated_host_listings_count_private_rooms',\n",
       " 'calculated_host_listings_count_shared_rooms',\n",
       " 'reviews_per_month']"
      ]
     },
     "execution_count": 25,
     "metadata": {},
     "output_type": "execute_result"
    }
   ],
   "source": [
    "df.columns.to_list()\n"
   ]
  },
  {
   "cell_type": "code",
   "execution_count": null,
   "metadata": {},
   "outputs": [
    {
     "name": "stdout",
     "output_type": "stream",
     "text": [
      "ligne_colonne: (67942, 75)    size : 5095650\n"
     ]
    }
   ],
   "source": [
    "print(\"ligne_colonne:\" , df.shape , \"  \", \"size :\" , df.size )"
   ]
  },
  {
   "cell_type": "markdown",
   "metadata": {},
   "source": [
    "a ) Analyser les colonnes "
   ]
  },
  {
   "cell_type": "code",
   "execution_count": null,
   "metadata": {},
   "outputs": [
    {
     "data": {
      "text/plain": [
       "calendar_updated                67942\n",
       "neighbourhood_group_cleansed    67942\n",
       "bathrooms                       67942\n",
       "host_about                      37151\n",
       "host_neighbourhood              34304\n",
       "                                ...  \n",
       "maximum_maximum_nights              0\n",
       "minimum_nights_avg_ntm              0\n",
       "has_availability                    0\n",
       "availability_30                     0\n",
       "id                                  0\n",
       "Length: 75, dtype: int64"
      ]
     },
     "execution_count": 27,
     "metadata": {},
     "output_type": "execute_result"
    }
   ],
   "source": [
    "#Nombre de données manquantes par colonnes\n",
    "\n",
    "df['reviews_per_month'].isnull().sum()\n",
    "\n",
    "df.isnull().sum().sum()\n",
    "\n",
    "df.isnull().sum().sort_values(ascending=False)\n",
    "\n"
   ]
  },
  {
   "cell_type": "code",
   "execution_count": null,
   "metadata": {},
   "outputs": [
    {
     "data": {
      "text/plain": [
       "Index(['description', 'neighborhood_overview', 'host_name', 'host_since',\n",
       "       'host_location', 'host_about', 'host_response_time',\n",
       "       'host_response_rate', 'host_acceptance_rate', 'host_is_superhost',\n",
       "       'host_thumbnail_url', 'host_picture_url', 'host_neighbourhood',\n",
       "       'host_listings_count', 'host_total_listings_count',\n",
       "       'host_verifications', 'host_has_profile_pic', 'host_identity_verified',\n",
       "       'neighbourhood', 'neighbourhood_group_cleansed', 'bathrooms',\n",
       "       'bathrooms_text', 'bedrooms', 'beds', 'calendar_updated',\n",
       "       'first_review', 'last_review', 'review_scores_rating',\n",
       "       'review_scores_accuracy', 'review_scores_cleanliness',\n",
       "       'review_scores_checkin', 'review_scores_communication',\n",
       "       'review_scores_location', 'review_scores_value', 'license',\n",
       "       'reviews_per_month'],\n",
       "      dtype='object')"
      ]
     },
     "execution_count": 28,
     "metadata": {},
     "output_type": "execute_result"
    }
   ],
   "source": [
    "#Obtenir une liste des colonnes avec des données manquantes\n",
    "\n",
    "column_valeur_maquantes = df.columns[df.isnull().any()]\n",
    "column_valeur_maquantes"
   ]
  },
  {
   "cell_type": "code",
   "execution_count": null,
   "metadata": {},
   "outputs": [
    {
     "name": "stdout",
     "output_type": "stream",
     "text": [
      "description 526\n",
      "neighborhood_overview 29911\n",
      "host_name 7\n",
      "host_since 7\n",
      "host_location 12803\n",
      "host_about 37151\n",
      "host_response_time 25898\n",
      "host_response_rate 25898\n",
      "host_acceptance_rate 22266\n",
      "host_is_superhost 974\n",
      "host_thumbnail_url 7\n",
      "host_picture_url 7\n",
      "host_neighbourhood 34304\n",
      "host_listings_count 7\n",
      "host_total_listings_count 7\n",
      "host_verifications 7\n",
      "host_has_profile_pic 7\n",
      "host_identity_verified 7\n",
      "neighbourhood 29911\n",
      "neighbourhood_group_cleansed 67942\n",
      "bathrooms 67942\n",
      "bathrooms_text 83\n",
      "bedrooms 15620\n",
      "beds 700\n",
      "calendar_updated 67942\n",
      "first_review 14757\n",
      "last_review 14757\n",
      "review_scores_rating 14757\n",
      "review_scores_accuracy 15257\n",
      "review_scores_cleanliness 15255\n",
      "review_scores_checkin 15267\n",
      "review_scores_communication 15257\n",
      "review_scores_location 15267\n",
      "review_scores_value 15270\n",
      "license 18570\n",
      "reviews_per_month 14757\n"
     ]
    }
   ],
   "source": [
    "#afficher les colonnes des données maquantes avec leurs valeur \n",
    "\n",
    "for column in column_valeur_maquantes :\n",
    "    print(column , df[column].isnull().sum())\n"
   ]
  },
  {
   "cell_type": "code",
   "execution_count": null,
   "metadata": {},
   "outputs": [
    {
     "data": {
      "text/plain": [
       "(67942, 75)"
      ]
     },
     "execution_count": 30,
     "metadata": {},
     "output_type": "execute_result"
    }
   ],
   "source": [
    "df.shape"
   ]
  },
  {
   "cell_type": "markdown",
   "metadata": {},
   "source": [
    "b) Supprimer les colonnes de la dataframe avec plus de 50% de données manquantes en utiliser la fonction pandas drop()"
   ]
  },
  {
   "cell_type": "code",
   "execution_count": null,
   "metadata": {},
   "outputs": [],
   "source": [
    "for column in column_valeur_maquantes : \n",
    "    if df[column].isnull().sum() * 100 / df.shape[1] > 50 :\n",
    "        df.drop(column ,axis=1 , inplace=True)"
   ]
  },
  {
   "cell_type": "code",
   "execution_count": null,
   "metadata": {},
   "outputs": [
    {
     "data": {
      "text/plain": [
       "(67942, 48)"
      ]
     },
     "execution_count": 32,
     "metadata": {},
     "output_type": "execute_result"
    }
   ],
   "source": [
    "df.shape"
   ]
  },
  {
   "cell_type": "code",
   "execution_count": null,
   "metadata": {},
   "outputs": [
    {
     "data": {
      "text/plain": [
       "63"
      ]
     },
     "execution_count": 33,
     "metadata": {},
     "output_type": "execute_result"
    }
   ],
   "source": [
    "df.isnull().sum().sort_values(ascending=False)\n",
    "df.isnull().sum().sum()"
   ]
  },
  {
   "cell_type": "markdown",
   "metadata": {},
   "source": [
    "c) Analyser les lignes "
   ]
  },
  {
   "cell_type": "code",
   "execution_count": null,
   "metadata": {},
   "outputs": [
    {
     "data": {
      "text/plain": [
       "0        0\n",
       "1        0\n",
       "2        0\n",
       "3        0\n",
       "4        0\n",
       "        ..\n",
       "67937    0\n",
       "67938    0\n",
       "67939    0\n",
       "67940    0\n",
       "67941    0\n",
       "Length: 67942, dtype: int64"
      ]
     },
     "execution_count": 35,
     "metadata": {},
     "output_type": "execute_result"
    }
   ],
   "source": [
    "#trouver les lignes avec des données maquantes \n",
    "df.isnull().sum(axis=1)"
   ]
  },
  {
   "cell_type": "code",
   "execution_count": null,
   "metadata": {},
   "outputs": [
    {
     "data": {
      "text/plain": [
       "Index([], dtype='int64')"
      ]
     },
     "execution_count": 44,
     "metadata": {},
     "output_type": "execute_result"
    }
   ],
   "source": [
    "#Obtenir une liste des lignes avec des données manquantes\n",
    "\n",
    "donne_manquate_ligne =df.index[df.isnull().any(axis=1)]\n",
    "donne_manquate_ligne"
   ]
  },
  {
   "cell_type": "code",
   "execution_count": null,
   "metadata": {},
   "outputs": [
    {
     "data": {
      "text/plain": [
       "0        0\n",
       "45303    0\n",
       "45289    0\n",
       "45290    0\n",
       "45291    0\n",
       "        ..\n",
       "22657    0\n",
       "22658    0\n",
       "22659    0\n",
       "22660    0\n",
       "67941    0\n",
       "Length: 67935, dtype: int64"
      ]
     },
     "execution_count": 45,
     "metadata": {},
     "output_type": "execute_result"
    }
   ],
   "source": [
    "#Nombre de données manquantes par lignes\n",
    "\n",
    "df.isnull().sum(axis=1).sort_values(ascending=False)\n"
   ]
  },
  {
   "cell_type": "markdown",
   "metadata": {},
   "source": [
    "b) Supprimer les lignes avec des données manquantes "
   ]
  },
  {
   "cell_type": "code",
   "execution_count": null,
   "metadata": {},
   "outputs": [],
   "source": [
    "df.drop(donne_manquate_ligne, axis= 0 , inplace=True)\n"
   ]
  },
  {
   "cell_type": "code",
   "execution_count": null,
   "metadata": {},
   "outputs": [
    {
     "data": {
      "text/plain": [
       "(67935, 48)"
      ]
     },
     "execution_count": 47,
     "metadata": {},
     "output_type": "execute_result"
    }
   ],
   "source": [
    "df.shape"
   ]
  },
  {
   "cell_type": "code",
   "execution_count": null,
   "metadata": {},
   "outputs": [
    {
     "data": {
      "text/plain": [
       "0"
      ]
     },
     "execution_count": 48,
     "metadata": {},
     "output_type": "execute_result"
    }
   ],
   "source": [
    "#les données maquantes\n",
    "df.isnull().sum().sum()\n"
   ]
  },
  {
   "cell_type": "code",
   "execution_count": null,
   "metadata": {},
   "outputs": [
    {
     "data": {
      "text/plain": [
       "id                                                int64\n",
       "listing_url                                      object\n",
       "scrape_id                                         int64\n",
       "last_scraped                                     object\n",
       "source                                           object\n",
       "name                                             object\n",
       "picture_url                                      object\n",
       "host_id                                           int64\n",
       "host_url                                         object\n",
       "host_name                                        object\n",
       "host_since                                       object\n",
       "host_thumbnail_url                               object\n",
       "host_picture_url                                 object\n",
       "host_listings_count                             float64\n",
       "host_total_listings_count                       float64\n",
       "host_verifications                               object\n",
       "host_has_profile_pic                             object\n",
       "host_identity_verified                           object\n",
       "neighbourhood_cleansed                           object\n",
       "latitude                                        float64\n",
       "longitude                                       float64\n",
       "property_type                                    object\n",
       "room_type                                        object\n",
       "accommodates                                      int64\n",
       "amenities                                        object\n",
       "price                                            object\n",
       "minimum_nights                                    int64\n",
       "maximum_nights                                    int64\n",
       "minimum_minimum_nights                            int64\n",
       "maximum_minimum_nights                            int64\n",
       "minimum_maximum_nights                            int64\n",
       "maximum_maximum_nights                            int64\n",
       "minimum_nights_avg_ntm                          float64\n",
       "maximum_nights_avg_ntm                          float64\n",
       "has_availability                                 object\n",
       "availability_30                                   int64\n",
       "availability_60                                   int64\n",
       "availability_90                                   int64\n",
       "availability_365                                  int64\n",
       "calendar_last_scraped                            object\n",
       "number_of_reviews                                 int64\n",
       "number_of_reviews_ltm                             int64\n",
       "number_of_reviews_l30d                            int64\n",
       "instant_bookable                                 object\n",
       "calculated_host_listings_count                    int64\n",
       "calculated_host_listings_count_entire_homes       int64\n",
       "calculated_host_listings_count_private_rooms      int64\n",
       "calculated_host_listings_count_shared_rooms       int64\n",
       "dtype: object"
      ]
     },
     "execution_count": 49,
     "metadata": {},
     "output_type": "execute_result"
    }
   ],
   "source": [
    "# voir le type des serie \n",
    "\n",
    "df.dtypes\n"
   ]
  },
  {
   "cell_type": "markdown",
   "metadata": {},
   "source": [
    "## Comprendre les données"
   ]
  },
  {
   "cell_type": "code",
   "execution_count": null,
   "metadata": {},
   "outputs": [],
   "source": [
    "# 'id' : identifiant\n",
    "# 'listing_url' : URL de la liste\n",
    "# 'scrape_id' : identifiant du scraping\n",
    "# 'last_scraped' : dernière extraction\n",
    "# 'source' : source\n",
    "# 'name' : nom\n",
    "# 'picture_url' : URL de l'image\n",
    "# 'host_id' : identifiant de l'hôte\n",
    "# 'host_url' : URL de l'hôte\n",
    "# 'host_name' : nom de l'hôte\n",
    "# 'host_since' : depuis quand l'hôte est actif\n",
    "# 'host_thumbnail_url' : URL de la miniature de l'hôte\n",
    "# 'host_picture_url' : URL de l'image de l'hôte\n",
    "# 'host_listings_count' : nombre d'annonces de l'hôte\n",
    "# 'host_total_listings_count' : nombre total d'annonces de l'hôte\n",
    "# 'host_verifications' : vérifications de l'hôte\n",
    "# 'host_has_profile_pic' : l'hôte a-t-il une photo de profil\n",
    "# 'host_identity_verified' : l'identité de l'hôte a-t-elle été vérifiée\n",
    "# 'neighbourhood_cleansed' : quartier nettoyé\n",
    "# 'latitude' : latitude\n",
    "# 'longitude' : longitude\n",
    "# 'property_type' : type de propriété\n",
    "# 'room_type' : type de chambre\n",
    "# 'accommodates' : nombre de personnes pouvant être accueillies\n",
    "# 'amenities' : équipements\n",
    "# 'price' : prix\n",
    "# 'minimum_nights' : nombre minimum de nuits\n",
    "# 'maximum_nights' : nombre maximum de nuits\n",
    "# 'minimum_minimum_nights' : minimum des nuits minimum\n",
    "# 'maximum_minimum_nights' : maximum des nuits minimum\n",
    "# 'minimum_maximum_nights' : minimum des nuits maximum\n",
    "# 'maximum_maximum_nights' : maximum des nuits maximum\n",
    "# 'minimum_nights_avg_ntm' : moyenne des nuits minimum\n",
    "# 'maximum_nights_avg_ntm' : moyenne des nuits maximum\n",
    "# 'has_availability' : disponibilité\n",
    "# 'availability_30' : disponibilité pour 30 jours\n",
    "# 'availability_60' : disponibilité pour 60 jours\n",
    "# 'availability_90' : disponibilité pour 90 jours\n",
    "# 'availability_365' : disponibilité pour 365 jours\n",
    "# 'calendar_last_scraped' : calendrier de la dernière extraction\n",
    "# 'number_of_reviews' : nombre d'avis\n",
    "# 'number_of_reviews_ltm' : nombre d'avis au cours de la dernière année\n",
    "# 'number_of_reviews_l30d' : nombre d'avis au cours des 30 derniers jours\n",
    "# 'instant_bookable' : réservation instantanée\n",
    "# 'calculated_host_listings_count' : nombre d'annonces calculées par l'hôte\n",
    "# 'calculated_host_listings_count_entire_homes' : nombre total de logements entiers gérés par l'hôte\n",
    "# 'calculated_host_listings_count_private_rooms' : nombre total de chambres privées gérées par l'hôte\n",
    "# 'calculated_host_listings_count_shared_rooms' : nombre total de chambres partagées gérées par l'hôte"
   ]
  },
  {
   "cell_type": "markdown",
   "metadata": {},
   "source": []
  }
 ],
 "metadata": {
  "kernelspec": {
   "display_name": "Python 3",
   "language": "python",
   "name": "python3"
  },
  "language_info": {
   "codemirror_mode": {
    "name": "ipython",
    "version": 3
   },
   "file_extension": ".py",
   "mimetype": "text/x-python",
   "name": "python",
   "nbconvert_exporter": "python",
   "pygments_lexer": "ipython3",
   "version": "3.11.9"
  }
 },
 "nbformat": 4,
 "nbformat_minor": 2
}
